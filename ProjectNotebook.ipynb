{
 "cells": [
  {
   "cell_type": "markdown",
   "metadata": {},
   "source": [
    "# Project Description"
   ]
  },
  {
   "cell_type": "markdown",
   "metadata": {},
   "source": [
    "My project is a chatbot named Happyella that takes the user through a personality quiz, asking them questions about their personality type and prompting the user to answer with either True or False. They introduce themselves and ask for the user's name to allow them to feel heard. The chatbot will then prompt them to start the quiz and give the user an option to quit anytime. The quiz will go through 10 questions in order and all questions must be answered to calculate the unique quote.\n",
    "\n",
    "The chatbot will calculate the amount of times the user says true or false and use this number to calculate a personalized inspirational quote for the user. The chatbot then implements a feedback system to ask the user if they are satisfied with their quote, then prompts the user to end the chat and come back next time.\n",
    "\n",
    "This chatbot is unique in the way that it acts more like a quiz then a chatbot, as each action will happen in the same order no matter what person is interacting with it.\n",
    "\n",
    "This chatbot will hopefully give the user inspiration and happiness, adding a personal touch to their quote, allowing them to feel special. Ideally this chatbot will brighten the user's day with encouragement that will make them happy."
   ]
  },
  {
   "cell_type": "markdown",
   "metadata": {},
   "source": [
    "## Project Code\n",
    "\n",
    "If it makes sense for your project, you can have code and outputs here in the notebook as well."
   ]
  },
  {
   "cell_type": "code",
   "execution_count": 1,
   "metadata": {},
   "outputs": [
    {
     "name": "stdout",
     "output_type": "stream",
     "text": [
      "INPUT :\thi\n",
      "OUTPUT: Hello there beautiful person!\n",
      "    My name is Happyella and I am so excited to be chatting with you today.\n",
      "    Who do I have the pleasure of speaking with? Please type the word 'name' and your name after it.\n",
      "INPUT :\tname Zoe\n",
      "OUTPUT: Wow! What a beautiful name you have.\n",
      "    I am so excited and honored to meet you today.\n",
      "    I hope you are having a wonderful day,and if you are not I hope I can make it better for you.\n",
      "    \n",
      "\n",
      "Today, I am going to ask you a series of statementsabout your personality and who you are.\n",
      "    I encourage you to relax and answer these questions honestly, as yourself.\n",
      "    \n",
      "\n",
      "You will answer each statement with EITHER 'true' or 'false' indicating whether you think the statement isTrue in describing you or False in describing you.\n",
      "    \n",
      "After 10 statements, I will give you your own personalized inspirational quote.    \n",
      "\n",
      "If at any point you want to stop talking to me, please type 'quit' to exit.    \n",
      "\n",
      "Are you ready? Please type 'ready' to start!\n",
      "INPUT :\tready\n",
      "OUTPUT: I consider myself to have introverted qualities: Sometimes, I prefer to be alone and in my own company.\n",
      "INPUT :\ttrue\n",
      "OUTPUT: I consider myself to have extroverted qualities: Sometimes, I prefer to be surrounded by others in a social setting.\n",
      "INPUT :\ttrue\n",
      "OUTPUT: I strive to make a difference in the community for both myself and others. I want to make the world a better place through my actions and passions.\n",
      "INPUT :\ttrue\n",
      "OUTPUT: I like to be creative and unique. I prioritize expressing myself day-to-day in at least one way.\n",
      "INPUT :\ttrue\n",
      "OUTPUT: I value helping others rather than putting my own needs first.\n",
      "INPUT :\ttrue\n",
      "OUTPUT: I prefer to set goals and plan rather than being spontaneous most of the time.\n",
      "INPUT :\ttrue\n",
      "OUTPUT: I prefer to take the lead on group projects and generally when working with others.\n",
      "INPUT :\ttrue\n",
      "OUTPUT: I am not afraid of the unknown and I am always ready for an adventure.\n",
      "INPUT :\tfalse\n",
      "OUTPUT: I try to see the positive in situations, so when something unexpected happens I try to make the best out of it.\n",
      "INPUT :\ttrue\n",
      "OUTPUT: I am open with my emotions. I am both able to identify with what I am feeling and able to communicate that to others.\n",
      "INPUT :\ttrue\n",
      "OUTPUT: Now selecting your very own personalized quote...\n",
      "\n",
      "    Calculating...\n",
      "\n",
      "    Please type 'quote' to see your quote!\n",
      "INPUT :\tquote\n",
      "OUTPUT: As you continue to grow and find who you are, know that everything will be okay and that life is a journey. Continue to be yourself and take comfort in who you are.\n",
      "\n",
      "Did you like the personalized quote we selected for you? Please type 'yes' for yes and 'no' for no.\n",
      "INPUT :\tyes\n",
      "OUTPUT: Wonderful! Please make sure to rate us 5 stars. See you next time!\n",
      "\n",
      "    Please type 'quit' to exit.\n",
      "INPUT :\tquit\n",
      "OUTPUT: Thank you for speaking with me today! Hope to see you again next time!\n"
     ]
    }
   ],
   "source": [
    "from scripts import my_script"
   ]
  },
  {
   "cell_type": "code",
   "execution_count": 2,
   "metadata": {},
   "outputs": [
    {
     "name": "stdout",
     "output_type": "stream",
     "text": [
      "\u001b[1m============================= test session starts ==============================\u001b[0m\n",
      "platform linux -- Python 3.9.5, pytest-6.2.5, py-1.10.0, pluggy-1.0.0\n",
      "rootdir: /home/ztait/Project_COGS18_FA21\n",
      "plugins: anyio-3.2.1\n",
      "collected 6 items                                                              \u001b[0m\u001b[1m\n",
      "\n",
      "my_module/test_functions.py \u001b[32m.\u001b[0m\u001b[32m.\u001b[0m\u001b[32m.\u001b[0m\u001b[32m.\u001b[0m\u001b[32m.\u001b[0m\u001b[32m.\u001b[0m\u001b[32m                                       [100%]\u001b[0m\n",
      "\n",
      "\u001b[32m============================== \u001b[32m\u001b[1m6 passed\u001b[0m\u001b[32m in 1.27s\u001b[0m\u001b[32m ===============================\u001b[0m\n"
     ]
    }
   ],
   "source": [
    "!pytest my_module/test_functions.py"
   ]
  },
  {
   "cell_type": "markdown",
   "metadata": {},
   "source": [
    "#### Possible Improvements\n",
    "\n",
    "If I were to continue this project, I would want to:\n",
    "- utilize a GUI interface to provide pop-up boxes where the user can select true or false to make the user's experience easier\n",
    "- include questions that allow for more words or longer answers rather than just \"true\" or \"false\" questions\n",
    "- make the quote more personalized to where it could include the user's name in their quote\n",
    "- change the way in which the function that collect's the user's name acts to allow it to be able to accept anyone's name without \"name\" in front of it"
   ]
  },
  {
   "cell_type": "markdown",
   "metadata": {},
   "source": [
    "#### Extra Credit (*optional*)\n",
    "\n",
    "1. This is my first class in Python. I briefly did some independent research on some aspects of Python this past summer, but I was very confused on it and lacked guidance. This is the first structured class where I have learned Python.\n",
    "2. In my project, I included more than 3 original functions, as I extensively adapted a function from an assignment/lecture notes. I also included tests for more than 3 functions, and I added documentation for more than 3 functions. I also added documentation for my test functions. I also did extra research on my topic to choose questions that would accurately understand aspects of the user's personality as well as quotes that would fit their personality. Finally, I uploaded my project to GitHub."
   ]
  }
 ],
 "metadata": {
  "kernelspec": {
   "display_name": "Python 3 (ipykernel)",
   "language": "python",
   "name": "python3"
  },
  "language_info": {
   "codemirror_mode": {
    "name": "ipython",
    "version": 3
   },
   "file_extension": ".py",
   "mimetype": "text/x-python",
   "name": "python",
   "nbconvert_exporter": "python",
   "pygments_lexer": "ipython3",
   "version": "3.9.5"
  }
 },
 "nbformat": 4,
 "nbformat_minor": 2
}
